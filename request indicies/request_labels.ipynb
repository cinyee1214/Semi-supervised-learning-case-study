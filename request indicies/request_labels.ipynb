{
  "nbformat": 4,
  "nbformat_minor": 0,
  "metadata": {
    "colab": {
      "name": "Copy of request_labels.ipynb",
      "provenance": [],
      "collapsed_sections": [],
      "machine_shape": "hm"
    },
    "kernelspec": {
      "name": "python3",
      "display_name": "Python 3"
    },
    "language_info": {
      "name": "python"
    }
  },
  "cells": [
    {
      "cell_type": "code",
      "metadata": {
        "colab": {
          "base_uri": "https://localhost:8080/"
        },
        "id": "mfkYh-_IVIM0",
        "outputId": "22c9aa89-5fb2-4c96-e114-f005eb17d711"
      },
      "source": [
        "from google.colab import drive\n",
        "drive.mount('/content/drive')"
      ],
      "execution_count": null,
      "outputs": [
        {
          "output_type": "stream",
          "text": [
            "/content\n",
            "sample_data\n",
            "Mounted at /content/drive\n"
          ],
          "name": "stdout"
        }
      ]
    },
    {
      "cell_type": "code",
      "metadata": {
        "id": "iIeic_4AV4fA"
      },
      "source": [
        "root='/content/drive/MyDrive/2021 Spring/2572/Final/prob.csv'"
      ],
      "execution_count": null,
      "outputs": []
    },
    {
      "cell_type": "code",
      "metadata": {
        "colab": {
          "base_uri": "https://localhost:8080/"
        },
        "id": "YPkz95F_XrMM",
        "outputId": "adaef4d3-6c9c-4a52-b403-ccf38059c5e8"
      },
      "source": [
        "import torch\n",
        "import torch.nn as nn\n",
        "\n",
        "import pandas as pd\n",
        "import numpy as np\n",
        "\n",
        "print(\"Loading CSV...\")\n",
        "prob = pd.read_csv(root, encoding = \"UTF-8\")\n",
        "\n",
        "print(\"Converting to Tensor...\")\n",
        "prob_tensor = torch.tensor(prob.to_numpy())\n",
        "prob_tensor.shape\n"
      ],
      "execution_count": null,
      "outputs": [
        {
          "output_type": "stream",
          "text": [
            "Loading CSV...\n",
            "Converting to Tensor...\n"
          ],
          "name": "stdout"
        },
        {
          "output_type": "execute_result",
          "data": {
            "text/plain": [
              "torch.Size([512000, 801])"
            ]
          },
          "metadata": {
            "tags": []
          },
          "execution_count": 3
        }
      ]
    },
    {
      "cell_type": "code",
      "metadata": {
        "colab": {
          "base_uri": "https://localhost:8080/"
        },
        "id": "AL2hc7bzat46",
        "outputId": "06ee5fe3-dea2-45f3-abe3-b32a55451d02"
      },
      "source": [
        "torch.sum(prob_tensor,1)"
      ],
      "execution_count": null,
      "outputs": [
        {
          "output_type": "execute_result",
          "data": {
            "text/plain": [
              "tensor([1.0000e+00, 2.0000e+00, 3.0000e+00,  ..., 5.1200e+05, 5.1200e+05,\n",
              "        5.1200e+05], dtype=torch.float64)"
            ]
          },
          "metadata": {
            "tags": []
          },
          "execution_count": 4
        }
      ]
    },
    {
      "cell_type": "code",
      "metadata": {
        "id": "s0_rHoaYbdKS",
        "colab": {
          "base_uri": "https://localhost:8080/"
        },
        "outputId": "6fb3ddbf-15f7-4c24-a93c-60d936eb687c"
      },
      "source": [
        "from torch.distributions import Categorical\n",
        "\n",
        "entropy = Categorical(probs = prob_tensor[:,1:]).entropy()\n",
        "entropy"
      ],
      "execution_count": null,
      "outputs": [
        {
          "output_type": "execute_result",
          "data": {
            "text/plain": [
              "tensor([4.5223e-01, 1.4175e+00, 1.0584e-03,  ..., 8.3253e-01, 2.4462e+00,\n",
              "        2.8300e+00], dtype=torch.float64)"
            ]
          },
          "metadata": {
            "tags": []
          },
          "execution_count": 33
        }
      ]
    },
    {
      "cell_type": "code",
      "metadata": {
        "colab": {
          "base_uri": "https://localhost:8080/"
        },
        "id": "Wy-QY8m6vQ1y",
        "outputId": "894f52bf-655f-4f8c-cbdd-efdfe5a5cf45"
      },
      "source": [
        "ids = prob_tensor[:,[0]]\n",
        "\n",
        "print(ids.shape)\n",
        "ids"
      ],
      "execution_count": null,
      "outputs": [
        {
          "output_type": "stream",
          "text": [
            "torch.Size([512000, 1])\n"
          ],
          "name": "stdout"
        },
        {
          "output_type": "execute_result",
          "data": {
            "text/plain": [
              "tensor([[0.0000e+00],\n",
              "        [1.0000e+00],\n",
              "        [2.0000e+00],\n",
              "        ...,\n",
              "        [5.1200e+05],\n",
              "        [5.1200e+05],\n",
              "        [5.1200e+05]], dtype=torch.float64)"
            ]
          },
          "metadata": {
            "tags": []
          },
          "execution_count": 39
        }
      ]
    },
    {
      "cell_type": "code",
      "metadata": {
        "colab": {
          "base_uri": "https://localhost:8080/"
        },
        "id": "SGA7-cAyvdp-",
        "outputId": "8a8e9726-4d93-4984-a8d7-90c1c4affd7c"
      },
      "source": [
        "y = torch.unsqueeze(entropy,1)\n",
        "print(y.shape)\n",
        "y"
      ],
      "execution_count": null,
      "outputs": [
        {
          "output_type": "stream",
          "text": [
            "torch.Size([512000, 1])\n"
          ],
          "name": "stdout"
        },
        {
          "output_type": "execute_result",
          "data": {
            "text/plain": [
              "tensor([[4.5223e-01],\n",
              "        [1.4175e+00],\n",
              "        [1.0584e-03],\n",
              "        ...,\n",
              "        [8.3253e-01],\n",
              "        [2.4462e+00],\n",
              "        [2.8300e+00]], dtype=torch.float64)"
            ]
          },
          "metadata": {
            "tags": []
          },
          "execution_count": 40
        }
      ]
    },
    {
      "cell_type": "code",
      "metadata": {
        "colab": {
          "base_uri": "https://localhost:8080/"
        },
        "id": "yglxkcd5v-QK",
        "outputId": "b7c3dca4-4867-4611-b3fd-39cb746d1e90"
      },
      "source": [
        "out = torch.cat((ids,y),1)\n",
        "out.shape\n",
        "out"
      ],
      "execution_count": null,
      "outputs": [
        {
          "output_type": "execute_result",
          "data": {
            "text/plain": [
              "tensor([[0.0000e+00, 4.5223e-01],\n",
              "        [1.0000e+00, 1.4175e+00],\n",
              "        [2.0000e+00, 1.0584e-03],\n",
              "        ...,\n",
              "        [5.1200e+05, 8.3253e-01],\n",
              "        [5.1200e+05, 2.4462e+00],\n",
              "        [5.1200e+05, 2.8300e+00]], dtype=torch.float64)"
            ]
          },
          "metadata": {
            "tags": []
          },
          "execution_count": 41
        }
      ]
    },
    {
      "cell_type": "code",
      "metadata": {
        "colab": {
          "base_uri": "https://localhost:8080/"
        },
        "id": "Qf09LQ1z0hp0",
        "outputId": "c3dd602d-d6b4-442f-afba-26a5b4eeb21d"
      },
      "source": [
        "df = pd.DataFrame(out.numpy())\n",
        "df"
      ],
      "execution_count": null,
      "outputs": [
        {
          "output_type": "stream",
          "text": [
            "<class 'pandas.core.frame.DataFrame'>\n"
          ],
          "name": "stdout"
        }
      ]
    },
    {
      "cell_type": "code",
      "metadata": {
        "colab": {
          "base_uri": "https://localhost:8080/"
        },
        "id": "H_RCEKTc0rcD",
        "outputId": "33fb9716-c56d-40b9-bd7f-f223e496c262"
      },
      "source": [
        "ds = df.sort_values(1,ascending=False)\n",
        "d = ds.head(12800)[0]\n",
        "\n",
        "outs = pd.to_numeric(d, downcast='integer')\n",
        "\n",
        "outs2 = outs.astype(str) + '.png'\n",
        "outs2.to_csv('request_05.csv',index=False,header=False,line_terminator = ',\\n')"
      ],
      "execution_count": null,
      "outputs": [
        {
          "output_type": "stream",
          "text": [
            "<class 'pandas.core.frame.DataFrame'>\n",
            "<class 'pandas.core.series.Series'>\n",
            "<class 'pandas.core.series.Series'>\n",
            "235405    /dataset/unlabeled/235405.png\n",
            "319481    /dataset/unlabeled/319481.png\n",
            "11494      /dataset/unlabeled/11494.png\n",
            "119154    /dataset/unlabeled/119154.png\n",
            "231955    /dataset/unlabeled/231955.png\n",
            "                      ...              \n",
            "5961        /dataset/unlabeled/5961.png\n",
            "331696    /dataset/unlabeled/331696.png\n",
            "42202      /dataset/unlabeled/42202.png\n",
            "477902    /dataset/unlabeled/477902.png\n",
            "321943    /dataset/unlabeled/321943.png\n",
            "Name: 0, Length: 12800, dtype: object\n",
            "235405    235405.png\n",
            "319481    319481.png\n",
            "11494      11494.png\n",
            "119154    119154.png\n",
            "231955    231955.png\n",
            "             ...    \n",
            "5961        5961.png\n",
            "331696    331696.png\n",
            "42202      42202.png\n",
            "477902    477902.png\n",
            "321943    321943.png\n",
            "Name: 0, Length: 12800, dtype: object\n"
          ],
          "name": "stdout"
        }
      ]
    }
  ]
}